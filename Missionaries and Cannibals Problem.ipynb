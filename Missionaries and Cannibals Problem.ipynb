{
 "cells": [
  {
   "cell_type": "markdown",
   "metadata": {},
   "source": [
    "# Missionaries and Cannibals Problem"
   ]
  },
  {
   "cell_type": "markdown",
   "metadata": {},
   "source": [
    "In the missionaries and cannibals problem, three missionaries and three cannibals must cross a river using a boat which can carry at most two people, under the constraint that, for both banks, if there are missionaries present on the bank, they cannot be outnumbered by cannibals (if they were, the cannibals would eat the missionaries). The boat cannot cross the river by itself with no people on board."
   ]
  },
  {
   "cell_type": "markdown",
   "metadata": {},
   "source": [
    "In this code,\n",
    "    OPEN,\n",
    "    CLOSED and \n",
    "    NEIGHBOUR are list. \n",
    "\n",
    "The state is expressed as (m,c,b).\n",
    "    Here, m -> #missionaries,\n",
    "          c -> #cannibals and \n",
    "          b -> Is boat here? If boat is here is a \"yes\" then b=1 else b=0 \n",
    "\n",
    "Start state is (3,3,1) and goal state is (0,0,0)"
   ]
  },
  {
   "cell_type": "code",
   "execution_count": 16,
   "metadata": {},
   "outputs": [],
   "source": [
    "def goal_test(curr_state):\n",
    "    '''\n",
    "    Check if the current state (here, curr_state is a tuple like (3,0,1) ) is the goal state (here, GOAL) or not.\n",
    "    '''\n",
    "    GOAL = (0,0,0)\n",
    "    if curr_state == GOAL:\n",
    "        return 1\n",
    "    return 0"
   ]
  },
  {
   "cell_type": "code",
   "execution_count": 17,
   "metadata": {},
   "outputs": [],
   "source": [
    "def remove_seen(parent,CHILDRENS,OPEN,CLOSED):\n",
    "    '''\n",
    "    Remove those childrens or neighbours of parent which are already \"in OPEN or CLOSED\".\n",
    "    In other words, add only those children in OPEN which are \"not in OPEN and CLOSED\".\n",
    "    '''\n",
    "    while len(CHILDRENS) > 0:\n",
    "        child = CHILDRENS.pop(0)\n",
    "        if (parent,child) not in CLOSED and (parent,child) not in OPEN and (child,parent) not in CLOSED and (child,parent) not in OPEN:\n",
    "            OPEN.append((parent,child)) # Content of OPEN when parent = (3,3,1) is [(None,(3,3,1)), ((3,3,1),(3,2,0)), ((3,3,1),(2,2,0))]"
   ]
  },
  {
   "cell_type": "code",
   "execution_count": 18,
   "metadata": {},
   "outputs": [],
   "source": [
    "def move_gen(CLOSED):\n",
    "    \n",
    "    '''\n",
    "    Generates the childeren or neighbours of the current state based on the rules.\n",
    "    '''\n",
    "    \n",
    "    curr = (3,3,1)\n",
    "    parent = (None)\n",
    "    \n",
    "    OPEN = list()\n",
    "    NEIGHBOUR = list()\n",
    "\n",
    "    while goal_test(curr) != 1:\n",
    "        m,c,b=curr[0],curr[1],curr[2]\n",
    "    #RULES (all mentioned in b = 0 and b = 1)\n",
    "        #b=1 means Boat on my side.\n",
    "        if b == 1:\n",
    "            # m-1\n",
    "            if m-1==0 or m-1>0 and m-1>=c and m-c<2:\n",
    "                NEIGHBOUR.append((m-1,c,0))\n",
    "        \n",
    "            # m-2\n",
    "            if m-2==0 or m-2>0 and m-2>=c and m-c!=3:\n",
    "                NEIGHBOUR.append((m-2,c,0))\n",
    "            \n",
    "            # c-1\n",
    "            if m==0 or m==3 and c-1>=0 and m-c!=1:\n",
    "                NEIGHBOUR.append((m,c-1,0))\n",
    "            \n",
    "            # c-2\n",
    "            if m==0 or m==3 and c-2>=0 and m-c!=0:\n",
    "                NEIGHBOUR.append((m,c-2,0))\n",
    "            \n",
    "            # m-1,c-1\n",
    "            if m-1>=0 and c-1>=0 and m==c:\n",
    "                NEIGHBOUR.append((m-1,c-1,0))\n",
    "        \n",
    "        #b=0 means boat is not on my side\n",
    "        if b == 0:\n",
    "            # m+1\n",
    "            if m+1==3 or m+1<=3 and m+1>=c and m-c!=0:\n",
    "                NEIGHBOUR.append((m+1,c,1)) \n",
    "            \n",
    "            # m+2\n",
    "            if m+2==3 or m+2<=3 and m+2>=c and m+c!=0 and m+c!=1:\n",
    "                NEIGHBOUR.append((m+2,c,1))\n",
    "            \n",
    "            # c+1\n",
    "            if m==0 and c+1<=3  or m==3 and m>=c+1 and m-c!=0 and c+1<=3:\n",
    "                NEIGHBOUR.append((m,c+1,1))\n",
    "                \n",
    "            # c+2\n",
    "            if m==0 and c+2<=3  or m==3 and m>=c+2 and m-c!=0 and c+2<=3:\n",
    "                NEIGHBOUR.append((m,c+2,1))\n",
    "                \n",
    "            # m+1,c+1\n",
    "            if m+1<=3 and c+1<=3 and m==c:\n",
    "                NEIGHBOUR.append((m+1,c+1,1))\n",
    "        \n",
    "        CLOSED.append((parent,curr))\n",
    "        remove_seen(curr,NEIGHBOUR,OPEN,CLOSED)\n",
    "\n",
    "        if len(OPEN) > 0:\n",
    "            parent,curr = OPEN.pop(0)\n",
    "        else:\n",
    "            break\n",
    "    CLOSED.append((parent,curr))\n"
   ]
  },
  {
   "cell_type": "code",
   "execution_count": 19,
   "metadata": {},
   "outputs": [],
   "source": [
    "def reconstruct_path(CLOSED):\n",
    "    '''\n",
    "    Reconstructs the path from goal state to start state using CLOSED.\n",
    "    \n",
    "    It searches for the (parent,child) pair containing goal state from end of CLOSED then runs until it reaches (None,(3,3,1). \n",
    "    '''\n",
    "    count = 0\n",
    "    c = (0,0,0)\n",
    "    print('Missionaries and Cannibals Problem')\n",
    "    for parent,curr in CLOSED[::-1]:\n",
    "        if parent == None:\n",
    "            print(curr)\n",
    "            break\n",
    "        if curr == c:\n",
    "            count = count+1\n",
    "            c = parent\n",
    "            print(curr)\n",
    "    print(f'#States = {count}')"
   ]
  },
  {
   "cell_type": "code",
   "execution_count": 20,
   "metadata": {},
   "outputs": [],
   "source": [
    "def main():\n",
    "    CLOSED = list()\n",
    "    move_gen(CLOSED)\n",
    "    reconstruct_path(CLOSED)"
   ]
  },
  {
   "cell_type": "code",
   "execution_count": 21,
   "metadata": {},
   "outputs": [
    {
     "name": "stdout",
     "output_type": "stream",
     "text": [
      "Missionaries and Cannibals Problem\n",
      "(0, 0, 0)\n",
      "(1, 1, 1)\n",
      "(0, 1, 0)\n",
      "(0, 3, 1)\n",
      "(0, 2, 0)\n",
      "(2, 2, 1)\n",
      "(1, 1, 0)\n",
      "(3, 1, 1)\n",
      "(3, 0, 0)\n",
      "(3, 2, 1)\n",
      "(2, 2, 0)\n",
      "(3, 3, 1)\n",
      "#States = 11\n"
     ]
    }
   ],
   "source": [
    "main()"
   ]
  }
 ],
 "metadata": {
  "kernelspec": {
   "display_name": "Python 3",
   "language": "python",
   "name": "python3"
  },
  "language_info": {
   "codemirror_mode": {
    "name": "ipython",
    "version": 3
   },
   "file_extension": ".py",
   "mimetype": "text/x-python",
   "name": "python",
   "nbconvert_exporter": "python",
   "pygments_lexer": "ipython3",
   "version": "3.8.5"
  }
 },
 "nbformat": 4,
 "nbformat_minor": 4
}
